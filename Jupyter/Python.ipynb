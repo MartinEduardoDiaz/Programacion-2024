{
 "cells": [
  {
   "cell_type": "markdown",
   "metadata": {},
   "source": [
    "_______________________________________________________________________________________________\n",
    "\n",
    "■█▀█■    Importante Conocer    ■█▀█■\n",
    "_______________________________________________________________________________________________\n",
    "\n",
    "_______________________________________________________________________________________________\n",
    "Python es un lenguaje \"case-sensitive\", lo que quiere decir, que distingue entre mayúsculas y minúsculas, por lo que puede aparecer un error si no esta escrito correctamente.\n",
    "_______________________________________________________________________________________________\n",
    "\n",
    "_______________________________________________________________________________________________\n",
    "En Python, se pueden hacer comentarios de una línea con # y de multiples lineas con '''\n",
    "\n",
    "# Este es un comentario de una línea\n",
    "\n",
    "'''Este es\n",
    "un comentario de multiples lineas'''\n",
    "\n",
    "'''\n",
    "Este tambien es un \n",
    "comentario multilinea\n",
    "'''\n",
    "_______________________________________________________________________________________________\n",
    "Metodos y Atributos\n",
    "\n",
    "Metodos: \n",
    "\n",
    "Atributos: \n",
    "\n",
    "_______________________________________________________________________________________________"
   ]
  },
  {
   "cell_type": "markdown",
   "metadata": {},
   "source": [
    "Print\n",
    "\n",
    "La funcion print() permite imprimir lo que este entre parentesis ()"
   ]
  },
  {
   "cell_type": "code",
   "execution_count": 1,
   "metadata": {},
   "outputs": [
    {
     "name": "stdout",
     "output_type": "stream",
     "text": [
      "Hola Mundo\n"
     ]
    }
   ],
   "source": [
    "print(\"Hola Mundo\")"
   ]
  },
  {
   "cell_type": "markdown",
   "metadata": {},
   "source": [
    "Variables\n",
    "\n",
    "Las variables permiten almacenar información\n",
    "\n",
    "1.- String (Texto)\n",
    "2.- Int (Numero Entero)\n",
    "3.- Float (Numero Decimal)\n",
    "4.- Booleanos (Verdadero y Falso)\n",
    "    4.1.- True (Verdadero)\n",
    "    4.2.- False (Falso)"
   ]
  },
  {
   "cell_type": "code",
   "execution_count": 3,
   "metadata": {},
   "outputs": [],
   "source": [
    "# 1.-\n",
    "texto = \"Hola Mundo\"\n",
    "# 2.-\n",
    "numero_entero = 25\n",
    "# 3.-\n",
    "numero_decimal = 6.5\n",
    "# 4.-\n",
    "verdadero = True\n",
    "falso = False"
   ]
  },
  {
   "cell_type": "markdown",
   "metadata": {},
   "source": [
    "Strings\n",
    "\n",
    "Existen metodos para modificar el texto de una variable.\n",
    "\n",
    "El indice los strings comienza en 0, contando los espacios como un caracter\n",
    "\n",
    "texto = \"Hola Mundo\"\n",
    "         0123456789\n",
    "\n",
    "\n",
    "1.- .upper() (Convierte todo el texto a mayusculas)\n",
    "2.- .lower() (Convierte todo el texto a minusculas)\n",
    "3.- .find() (Permite encontrar la posición de una letra o conjunto de letras en el texto)\n",
    "    3.1.- .find() (Muestra la posición en la que ese conjunto de letras empieza)\n",
    "    3.2.- .find() (Muestra un dato incorrecto, resultado de haber escrito con minuscula en vez de mayuscula la letra correspondiente)\n",
    "4.- .replace() (Permite reemplazar una letra o conjunto de letras)\n",
    "5.- in (Permite buscar el texto dentro de la variable, dando True o False dependiendo de si se encuentra en la variable)"
   ]
  },
  {
   "cell_type": "code",
   "execution_count": 1,
   "metadata": {},
   "outputs": [
    {
     "name": "stdout",
     "output_type": "stream",
     "text": [
      "Hola Mundo\n",
      "HOLA MUNDO\n",
      "hola mundo\n",
      "5\n",
      "5\n",
      "-1\n",
      "Hola AAAdo\n",
      "True\n"
     ]
    }
   ],
   "source": [
    "texto = \"Hola Mundo\"\n",
    "print(texto)\n",
    "\n",
    "# 1.-\n",
    "print(texto.upper())\n",
    "# 2.-\n",
    "print(texto.lower())\n",
    "\n",
    "# 3.-\n",
    "print(texto.find(\"M\"))\n",
    "# 3.1.-\n",
    "print(texto.find(\"Mun\"))\n",
    "# 3.2.-\n",
    "print(texto.find(\"mun\"))\n",
    "\n",
    "# 4.-\n",
    "print(texto.replace(\"Mun\", \"AAA\"))\n",
    "# 5.-\n",
    "print(\"Hola\" in texto)"
   ]
  },
  {
   "cell_type": "markdown",
   "metadata": {},
   "source": [
    "Operaciones Aritméticas\n",
    "\n",
    "1.-    +   Suma\n",
    "2.-    -   Resta\n",
    "3.-    *   Multiplicacion\n",
    "4.-    /   Division\n",
    "5.-    **  Potencia\n",
    "6.-    %   Modulo (El Resto de una Division)"
   ]
  },
  {
   "cell_type": "code",
   "execution_count": 3,
   "metadata": {},
   "outputs": [
    {
     "name": "stdout",
     "output_type": "stream",
     "text": [
      "15\n",
      "5\n",
      "50\n",
      "2.0\n",
      "100000\n",
      "1\n"
     ]
    }
   ],
   "source": [
    "# 1.-\n",
    "print(10 + 5)\n",
    "# 2.-\n",
    "print(10 - 5)\n",
    "# 3.-\n",
    "print(10 * 5)\n",
    "# 4.-\n",
    "print(10 / 5)\n",
    "# 5.-\n",
    "print(10 ** 5)\n",
    "# 6.-\n",
    "print(10 % 3)"
   ]
  },
  {
   "cell_type": "markdown",
   "metadata": {},
   "source": [
    "Operadores de Comparación\n",
    "\n",
    "1.-    >    Mayor que\n",
    "2.-    <    Menor que\n",
    "3.-    >=   Mayor o Igual que\n",
    "4.-    <=   Menor o Igual que\n",
    "5.-    ==    Igual"
   ]
  },
  {
   "cell_type": "code",
   "execution_count": 10,
   "metadata": {},
   "outputs": [
    {
     "name": "stdout",
     "output_type": "stream",
     "text": [
      "False\n",
      "True\n",
      "False\n",
      "True\n",
      "True\n",
      "False\n",
      "True\n"
     ]
    }
   ],
   "source": [
    "n1 = 5\n",
    "n2 = 10\n",
    "\n",
    "# 1.-\n",
    "print(n1 > n2)   # Al ser 5 (n1) menor que 10 (n2), nos da False\n",
    "# 2.-\n",
    "print(n1 < n2)   # Al ser 5 (n1) menor que 10 (n2), nos da True\n",
    "# 3.-\n",
    "print(n1 >= n2)  # Al no ser 5 (n1) Mayor o Igual a 10 (n2), nos da False\n",
    "# 4.-\n",
    "print(n1 <= n2)  # Al ser 5 (n1) Menor o Igual a 10 (n2), nos da True\n",
    "# 5.-\n",
    "print(n1 == 5)   # Al ser 5 (n1) Igual a 5, nos da True\n",
    "\n",
    "# Hay que tener en cuenta lo siguiente:\n",
    "print(n1 > 5)\n",
    "# n1 fue definido con un valor de 5, pero 5 no es mayor que 5, por lo tanto nos da False\n",
    "# Sin embargo:\n",
    "print(n1 >= 5)\n",
    "# Al preguntar si n1 es Mayor o Igual a 5, da True porque valen lo mismo"
   ]
  },
  {
   "cell_type": "markdown",
   "metadata": {},
   "source": [
    "Input\n",
    "\n",
    "La funcion input() permite al usuario ingresar datos. El input puede tener o no un string (Texto) indicando que información agregar, se recomienda que lo tenga."
   ]
  },
  {
   "cell_type": "code",
   "execution_count": 6,
   "metadata": {},
   "outputs": [
    {
     "name": "stdout",
     "output_type": "stream",
     "text": [
      "El numero ingresado menos 10 unidades es:  990\n"
     ]
    }
   ],
   "source": [
    "# Este es un input sin Texto\n",
    "input()\n",
    "\n",
    "# Este es un input con Texto\n",
    "input(\"Ingrese su nombre: \")\n",
    "\n",
    "# Esta es una variable a la cual se le agregara la informacion a traves de un input\n",
    "edad = input(\"Ingrese su edad: \")\n",
    "# Despues de ingresado el input, la variable almacenara lo que se haya escrito\n",
    "\n",
    "# Ejemplo Funcional\n",
    "numero = int(input(\"Ingrese un numero para restarle 10 unidades: \"))\n",
    "resultado = numero - 10\n",
    "print(\"El numero ingresado menos 10 unidades es: \", resultado)\n",
    "\n",
    "# Cabe aclarar que al ingresar un numero en un input, este sera almacenado como un str (String/Texto).\n",
    "# Asi que si se quiere hacer operaciones con el numero se debe poner antes un int() o float()\n",
    "# Asi sera almacenado como un numero"
   ]
  },
  {
   "cell_type": "markdown",
   "metadata": {},
   "source": [
    "Conversión de Datos\n",
    "\n",
    "Existen diversas funciones para transformar datos a un tipo deseado.\n",
    "\n",
    "1.- str a int         (Texto a Número Entero)\n",
    "2.- int a str         (Número Entero a Texto)\n",
    "3.- str a float       (Texto a Número Decimal)\n",
    "4.- float a str       (Número Decimal a Texto)\n",
    "5.- Booleanos         (a Booleano (Verdadero o Falso))\n",
    "    5.1.- Bool True\n",
    "    5.2.- Bool False"
   ]
  },
  {
   "cell_type": "code",
   "execution_count": 4,
   "metadata": {},
   "outputs": [
    {
     "name": "stdout",
     "output_type": "stream",
     "text": [
      "10\n",
      "20\n",
      "10.5\n",
      "20.5\n",
      "True\n",
      "True\n",
      "True\n",
      "True\n",
      "False\n",
      "False\n",
      "False\n",
      "False\n"
     ]
    }
   ],
   "source": [
    "variable_str = \"10\"        # Al estar entre comillas \"\", el 10 es tomado como texto\n",
    "variable_str2 = \"10.5\"     # Al estar entre comillas \"\", el 10.5 es tomado como texto\n",
    "variable_int = 20          # Al no estar entre comillas, se toma el 20 como un número, en este caso, un número entero\n",
    "variable_int2 = 20.5        # Al no estar entre comillas, se toma el 20.5 como un número, en este caso, un número decimal\n",
    "\n",
    "# 1.-\n",
    "print(int(variable_str))       # Texto a Numero Entero\n",
    "# 2.-\n",
    "print(str(variable_int))       # Numero Entero a Texto\n",
    "# 3.-\n",
    "print(float(variable_str2))    # Texto a Numero Decimal\n",
    "# 4.-\n",
    "print(str(variable_int2))      # Numero Decimal a Texto\n",
    "\n",
    "# 5.-\n",
    "    # 5.1.-\n",
    "print(bool(variable_str))\n",
    "print(bool(variable_str2))\n",
    "print(bool(variable_int))\n",
    "print(bool(variable_int2))\n",
    "# Todas las variables dan como resultado True, esto pasa por que tienen un contenido adentro\n",
    "\n",
    "# 5.2.-\n",
    "print(bool())\n",
    "print(bool(\"\"))\n",
    "print(bool(0))\n",
    "print(bool(False))\n",
    "# Todo lo anterior da False, porque se toma como que no hay contenido dentro, incluyendo el 0\n",
    "# False dara False, por que bool lo reconoce como False"
   ]
  },
  {
   "cell_type": "markdown",
   "metadata": {},
   "source": [
    "Operadores Logicos\n",
    "\n",
    "Las declaraciones se evaluan en True o False\n",
    "\n",
    "# and\n",
    "True and True     = True\n",
    "True and False    = False\n",
    "False and False   = False\n",
    "\n",
    "# or\n",
    "True or True      = True\n",
    "True or False     = True\n",
    "False or False    = False\n",
    "\n",
    "# not\n",
    "Teniendo un valor True o False, not lo convierte en el contrario"
   ]
  },
  {
   "cell_type": "code",
   "execution_count": 1,
   "metadata": {},
   "outputs": [
    {
     "name": "stdout",
     "output_type": "stream",
     "text": [
      "True\n",
      "True\n",
      "True\n",
      "False\n"
     ]
    }
   ],
   "source": [
    "edad = 20\n",
    "\n",
    "print(edad > 18)\n",
    "\n",
    "# and\n",
    "print(edad > 18 and edad < 65)\n",
    "\n",
    "# or\n",
    "print(edad > 18 or edad < 65)\n",
    "\n",
    "# not\n",
    "print(not (edad > 18))"
   ]
  },
  {
   "cell_type": "markdown",
   "metadata": {},
   "source": [
    "Operadores de Control de Flujo: if, elif y else\n",
    "\n",
    "Tomar en cuenta la sangria o indentación.\n",
    "\n",
    "\"elif\" es la combinacion entre \"else\" e \"if\".\n",
    "\n",
    "\"if\" y \"elif\" se ejecutan en orden, cuando se obtiene un \"True\", se ignorara todo lo que le sigue.\n",
    "\n",
    "\"else\" se ejecutara solo si todo lo anterior fue obtenido como \"False\""
   ]
  },
  {
   "cell_type": "code",
   "execution_count": 11,
   "metadata": {},
   "outputs": [
    {
     "name": "stdout",
     "output_type": "stream",
     "text": [
      "El estudiante ha aprobado con exelencia\n",
      "Este print se encuentra fuera del if\n"
     ]
    }
   ],
   "source": [
    "nota = float(input(\"Ingrese su nota: \"))\n",
    "\n",
    "if nota >= 6 and nota <= 7:\n",
    "    print(\"El estudiante ha aprobado con exelencia\")\n",
    "elif nota >= 4 and nota < 6:\n",
    "    print(\"El estudiante ha aprobado\")\n",
    "elif nota < 4 and nota >= 0:\n",
    "    print(\"El estudiante ha reprobado\")\n",
    "else: print(\"Numero Invalido\")\n",
    "\n",
    "print(\"Este print se encuentra fuera del if\")"
   ]
  },
  {
   "cell_type": "markdown",
   "metadata": {},
   "source": [
    "Ejercicio Conversor de Temperatura\n"
   ]
  },
  {
   "cell_type": "code",
   "execution_count": 9,
   "metadata": {},
   "outputs": [
    {
     "name": "stdout",
     "output_type": "stream",
     "text": [
      "Se convertira la Temperatura ingresada de Farenheit a Celsius o viceversa\n",
      "La temperatura es: 97.7 grados Farenheit\n"
     ]
    }
   ],
   "source": [
    "print(\"Se convertira la Temperatura ingresada de Farenheit a Celsius o viceversa\")\n",
    "grados = float(input(\"Ingrese la Temperatura a convertir: \"))\n",
    "\n",
    "escala = input(\"¿La Temperatura esta en Grados Celsius(C) o Grados Farenheit(F)?: \").upper()\n",
    "\n",
    "if escala == \"F\":\n",
    "    print(\"La temperatura es:\", ((grados-32) * 5/9), \"grados Celsius\")\n",
    "elif escala == \"C\":\n",
    "    print(\"La temperatura es:\", (grados*1.8+32), \"grados Farenheit\")\n",
    "else: print(\"La escala es invalida\")"
   ]
  },
  {
   "cell_type": "markdown",
   "metadata": {},
   "source": [
    "Listas\n",
    "\n",
    "Las listas en Python comienzan con un indice 0"
   ]
  },
  {
   "cell_type": "code",
   "execution_count": 15,
   "metadata": {},
   "outputs": [
    {
     "name": "stdout",
     "output_type": "stream",
     "text": [
      "['Python', 'Ruby', 'Java', 'Javascript']\n",
      "Java\n",
      "Javascript\n",
      "['Python', 'Ruby', 'Java']\n",
      "['Python', 'Ruby', 'Java', 'Javascript']\n",
      "['Python', 'Ruby', 'Java']\n",
      "Ruby\n",
      "PHP\n"
     ]
    }
   ],
   "source": [
    "lenguajes = [\"Python\", \"Ruby\", \"Java\", \"Javascript\"]\n",
    "#                0       1        2          3\n",
    "print(lenguajes)\n",
    "\n",
    "# Acceder a un elemento de la lista a traves de su indice\n",
    "print(lenguajes[2])\n",
    "print(lenguajes[-1])\n",
    "# Tambien se puede usar un indice negativo para ir en sentido contrario, \"-1\" es \"Javascript\" porque es el ultimo elemento\n",
    "\n",
    "# Para acceder de un rango de elementos (de cual hasta cual)\n",
    "print(lenguajes[0:3])\n",
    "# Notese que el ultimo elemento solicitado no se selecciona, termina en el \"3\" pero imprime todo del 0 al 2\n",
    "print(lenguajes[0:])    # Desde el 0 hasta el ultimo elemento\n",
    "print(lenguajes[:3])    # Desde el primer elemento hasta el 3\n",
    "\n",
    "# Para cambiar los elementos de una lista\n",
    "print(lenguajes[1])\n",
    "lenguajes[1] = \"C++\"\n",
    "print(lenguajes[1])\n",
    "# Ahora el elemento \"Ruby\" ha cambiado a \"PHP\""
   ]
  },
  {
   "cell_type": "markdown",
   "metadata": {},
   "source": [
    "Metodos de Listas\n"
   ]
  },
  {
   "cell_type": "code",
   "execution_count": 23,
   "metadata": {},
   "outputs": [
    {
     "name": "stdout",
     "output_type": "stream",
     "text": [
      "['Python', 'Ruby', 'Java', 'Javascript']\n",
      "['Python', 'Ruby', 'C++', 'Java', 'Javascript']\n",
      "['Python', 'Ruby', 'C++', 'Java']\n",
      "False\n",
      "4\n"
     ]
    }
   ],
   "source": [
    "lenguajes = [\"Python\", \"Ruby\", \"Java\", \"Javascript\"]\n",
    "#                0       1        2          3\n",
    "print(lenguajes)\n",
    "\n",
    "\n",
    "# Insertar un Elemento en la Lista\n",
    "lenguajes.insert(2, \"C++\")\n",
    "print(lenguajes)\n",
    "# Ahora \"C++\" ha tomado el lugar del elemento 2\n",
    "# [\"Python\", \"Ruby\", \"C++\", \"Java\", \"Javascript\"]\n",
    "#     0        1       2       3          4\n",
    "\n",
    "\n",
    "# Remover un Elemento de una Lista\n",
    "lenguajes.remove(\"Javascript\")\n",
    "print(lenguajes)\n",
    "# Ahora \"Javascript\" ha sido eliminado de la Lista\n",
    "# [\"Python\", \"Ruby\", \"C++\", \"Java\"]\n",
    "#     0        1       2       3\n",
    "\n",
    "\n",
    "# Preguntar si un elemento se encuentra en la Lista\n",
    "print(\"PHP\" in lenguajes)\n",
    "# Como \"PHP\" no esta en \"lenguajes\", dara False\n",
    "\n",
    "\n",
    "# Preguntar cuantos elementos tiene una Lista\n",
    "print(len(lenguajes))\n"
   ]
  },
  {
   "cell_type": "markdown",
   "metadata": {},
   "source": [
    "Bucle while\n",
    "\n",
    "Si no se le coloca una condicion de salida a un bucle, este se ejecutara indefinidamente."
   ]
  },
  {
   "cell_type": "code",
   "execution_count": 27,
   "metadata": {},
   "outputs": [
    {
     "name": "stdout",
     "output_type": "stream",
     "text": [
      "0\n",
      "1\n",
      "2\n",
      "3\n",
      "4\n",
      "\n",
      "Palabra \n",
      "Palabra Palabra \n",
      "Palabra Palabra Palabra \n",
      "Palabra Palabra Palabra Palabra \n",
      "Python\n",
      "Ruby\n",
      "Java\n",
      "Javascript\n"
     ]
    }
   ],
   "source": [
    "lenguajes = [\"Python\", \"Ruby\", \"Java\", \"Javascript\"]\n",
    "\n",
    "\n",
    "# Ejemplo con Numeros\n",
    "# Valor Inicial\n",
    "i = 0\n",
    "\n",
    "# Bucle\n",
    "while i <= 4:\n",
    "    print(i)\n",
    "    i = i + 1\n",
    "# El bucle ejecuta las tres lineas de codigo en orden hasta que \"while\" sea \"False\"\n",
    "\n",
    "\n",
    "# Ejemplo con Palabras\n",
    "# Valor Inicial\n",
    "i = 0\n",
    "\n",
    "# Bucle\n",
    "while i <= 4:\n",
    "    print(i * \"Palabra \")\n",
    "    i = i + 1\n",
    "# El bucle ejecuta las tres lineas de codigo en orden hasta que \"while\" sea \"False\"\n",
    "\n",
    "\n",
    "# Con Listas\n",
    "i = 0\n",
    "\n",
    "while i < len(lenguajes):\n",
    "    print(lenguajes[i])\n",
    "    i = i + 1"
   ]
  },
  {
   "cell_type": "markdown",
   "metadata": {},
   "source": [
    "Bucle for\n"
   ]
  },
  {
   "cell_type": "code",
   "execution_count": 1,
   "metadata": {},
   "outputs": [
    {
     "name": "stdout",
     "output_type": "stream",
     "text": [
      "Python\n",
      "Ruby\n",
      "Java\n",
      "Javascript\n",
      "Python\n",
      "Ruby\n",
      "Java\n",
      "Javascript\n",
      "0\n",
      "1\n",
      "2\n",
      "3\n",
      "4\n",
      "5\n",
      "6\n",
      "7\n",
      "8\n",
      "9\n"
     ]
    }
   ],
   "source": [
    "lenguajes = [\"Python\", \"Ruby\", \"Java\", \"Javascript\"]\n",
    "\n",
    "# for\n",
    "for variable in lenguajes:\n",
    "    print(variable)\n",
    "\n",
    "# Comparacion con while\n",
    "i = 0\n",
    "while i < len(lenguajes):\n",
    "    print(lenguajes[i])\n",
    "    i = i + 1\n",
    "\n",
    "\n",
    "# Ejemplo con rango\n",
    "for x in range(10):\n",
    "    print(x)"
   ]
  },
  {
   "cell_type": "markdown",
   "metadata": {},
   "source": [
    "Definición de iteración:\n",
    "\n",
    "Iteración significa repetir varias veces un proceso con la intención de alcanzar una meta deseada, objetivo o resultado.​ Cada repetición del proceso también se le denomina una «iteración», y los resultados de una iteración se utilizan como punto de partida para la siguiente iteración.\n",
    "                                                                                    - Wikipedia"
   ]
  },
  {
   "cell_type": "markdown",
   "metadata": {},
   "source": [
    "Funciones\n",
    "\n",
    "Una función se crea con \"def\", sirve para guardar procesos."
   ]
  },
  {
   "cell_type": "code",
   "execution_count": 3,
   "metadata": {},
   "outputs": [
    {
     "name": "stdout",
     "output_type": "stream",
     "text": [
      "Hola\n"
     ]
    }
   ],
   "source": [
    "# Ejemplo Función Personalizada\n",
    "\n",
    "def funcion():\n",
    "    print(\"Hola\")\n",
    "\n",
    "\n",
    "funcion()"
   ]
  }
 ],
 "metadata": {
  "kernelspec": {
   "display_name": "Python 3",
   "language": "python",
   "name": "python3"
  },
  "language_info": {
   "codemirror_mode": {
    "name": "ipython",
    "version": 3
   },
   "file_extension": ".py",
   "mimetype": "text/x-python",
   "name": "python",
   "nbconvert_exporter": "python",
   "pygments_lexer": "ipython3",
   "version": "3.12.3"
  }
 },
 "nbformat": 4,
 "nbformat_minor": 2
}
